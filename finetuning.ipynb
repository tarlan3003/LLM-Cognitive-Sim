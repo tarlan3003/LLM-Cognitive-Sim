{
 "cells": [
  {
   "cell_type": "code",
   "execution_count": 4,
   "metadata": {},
   "outputs": [],
   "source": [
    "from peft import LoraConfig, get_peft_model, PeftModel\n",
    "from transformers import AutoTokenizer, AutoModelForCausalLM, TrainingArguments, Trainer, DataCollatorForLanguageModeling, pipeline\n",
    "from torch.utils.data import Dataset\n",
    "import torch\n",
    "import pickle\n",
    "from nltk.translate.bleu_score import sentence_bleu, SmoothingFunction\n",
    "from rouge_score import rouge_scorer\n",
    "import time\n",
    "import math\n",
    "from datasets import load_dataset\n",
    "from sklearn.model_selection import train_test_split"
   ]
  },
  {
   "cell_type": "code",
   "execution_count": 5,
   "metadata": {},
   "outputs": [],
   "source": [
    "# parameters\n",
    "\n",
    "# files\n",
    "chunk_filename_pkl = \"./data/kahneman_chunks.pkl\"\n",
    "\n",
    "# model\n",
    "#model_name = \"deepseek-ai/DeepSeek-R1-Distill-Qwen-1.5B\"\n",
    "model_name = \"deepseek-ai/deepseek-llm-7b-base\"\n",
    "\n",
    "# LoRA config\n",
    "r = 16\n",
    "lora_alpha = 32\n",
    "lora_dropout = 0.1\n",
    "target_modules=[\"q_proj\", \"v_proj\"]\n",
    "bias=\"none\"\n",
    "task_type=\"CAUSAL_LM\"\n",
    "\n",
    "# LoRA training\n",
    "\n",
    "output_dir=\"./lora_finetuned_model/deepseek-llm-7b-base\" # path for saving the fine tuned model\n",
    "per_device_train_batch_size=4 # batch size for each device (e.g. GPU)\n",
    "gradient_accumulation_steps=4 # how many forward passes to accumulate before running a backward pass. simluates a larger batch size\n",
    "learning_rate=2e-4 \n",
    "num_train_epochs=3 # number of training epochs\n",
    "save_strategy=\"epoch\" # when the model is saved\n",
    "fp16=True #this and the following command ensure better numerical stability\n",
    "bf16=False\n",
    "logging_steps=10 # after how many iterations each logging is reported\n",
    "report_to=\"none\"  # whether to log to external services like WandB"
   ]
  },
  {
   "cell_type": "code",
   "execution_count": 6,
   "metadata": {},
   "outputs": [
    {
     "data": {
      "application/vnd.jupyter.widget-view+json": {
       "model_id": "396d97713cbc47cdbacd882bcdf3dc25",
       "version_major": 2,
       "version_minor": 0
      },
      "text/plain": [
       "Loading checkpoint shards:   0%|          | 0/2 [00:00<?, ?it/s]"
      ]
     },
     "metadata": {},
     "output_type": "display_data"
    }
   ],
   "source": [
    "# Load the tokenizer and model\n",
    "tokenizer = AutoTokenizer.from_pretrained(pretrained_model_name_or_path=model_name)\n",
    "original_model = AutoModelForCausalLM.from_pretrained(pretrained_model_name_or_path=model_name)"
   ]
  },
  {
   "cell_type": "code",
   "execution_count": 7,
   "metadata": {},
   "outputs": [],
   "source": [
    "with open(chunk_filename_pkl, 'rb') as f:\n",
    "    kahneman_paragraphs = pickle.load(f)"
   ]
  },
  {
   "cell_type": "code",
   "execution_count": 8,
   "metadata": {},
   "outputs": [
    {
     "name": "stdout",
     "output_type": "stream",
     "text": [
      "Training set size: 671 paragraphs\n",
      "Test set size: 168 paragraphs\n"
     ]
    }
   ],
   "source": [
    "# train (80%) / test (20%) split\n",
    "train_texts, test_texts = train_test_split(kahneman_paragraphs, test_size=0.2, random_state=42)\n",
    "\n",
    "print(f\"Training set size: {len(train_texts)} paragraphs\")\n",
    "print(f\"Test set size: {len(test_texts)} paragraphs\")\n",
    "\n",
    "#Thoughts: is random splitting the best idea, as paragraphs are not independent\n",
    "# + we loose some paragraphs for training, when splitting the data. We cannot use these paragraphs for compressing the data into the LLM"
   ]
  },
  {
   "cell_type": "code",
   "execution_count": 9,
   "metadata": {},
   "outputs": [
    {
     "name": "stdout",
     "output_type": "stream",
     "text": [
      "trainable params: 7,864,320 || all params: 6,918,230,016 || trainable%: 0.1137\n"
     ]
    }
   ],
   "source": [
    "# Define LoRA configuration\n",
    "lora_config = LoraConfig(\n",
    "    r=16,  # Rank: Controls adaptation capacity\n",
    "    lora_alpha=lora_alpha,  # Scaling factor\n",
    "    lora_dropout=lora_dropout,  # Dropout probability\n",
    "    target_modules=target_modules,  # Target attention layers\n",
    "    bias=bias,\n",
    "    task_type=task_type,\n",
    ")\n",
    "\n",
    "# Apply LoRA to the model\n",
    "model = get_peft_model(original_model, lora_config)\n",
    "model.print_trainable_parameters()  # Verify trainable params"
   ]
  },
  {
   "cell_type": "code",
   "execution_count": 10,
   "metadata": {},
   "outputs": [],
   "source": [
    "# Define dataset class\n",
    "class TextDataset(Dataset):\n",
    "    def __init__(self, texts, tokenizer, max_length=512):\n",
    "        self.tokenizer = tokenizer\n",
    "        self.input_ids = []\n",
    "        \n",
    "        for text in texts:\n",
    "            encoded = tokenizer(text, truncation=True, padding=\"max_length\", max_length=max_length, return_tensors=\"pt\")\n",
    "            self.input_ids.append(encoded.input_ids.squeeze(0))\n",
    "\n",
    "    def __len__(self):\n",
    "        return len(self.input_ids)\n",
    "\n",
    "    def __getitem__(self, idx):\n",
    "        return {\"input_ids\": self.input_ids[idx], \"labels\": self.input_ids[idx]}\n",
    "\n",
    "# Create dataset\n",
    "train_dataset = TextDataset(train_texts, tokenizer)\n",
    "test_dataset = TextDataset(test_texts, tokenizer)"
   ]
  },
  {
   "cell_type": "code",
   "execution_count": 11,
   "metadata": {},
   "outputs": [],
   "source": [
    "data_collator = DataCollatorForLanguageModeling(tokenizer=tokenizer, mlm=False)  # Causal LM, not masked LM"
   ]
  },
  {
   "cell_type": "code",
   "execution_count": 12,
   "metadata": {},
   "outputs": [],
   "source": [
    "# Training arguments\n",
    "training_args = TrainingArguments(\n",
    "    output_dir=output_dir,\n",
    "    per_device_train_batch_size=per_device_train_batch_size,\n",
    "    gradient_accumulation_steps=gradient_accumulation_steps,\n",
    "    learning_rate=learning_rate,\n",
    "    num_train_epochs=num_train_epochs,\n",
    "    save_strategy=save_strategy,\n",
    "    fp16=fp16, #this and the following command ensure better numerical stability\n",
    "    bf16=bf16,\n",
    "    logging_steps=logging_steps,\n",
    "    report_to=report_to  # Disable logging to external services like WandB\n",
    ")"
   ]
  },
  {
   "cell_type": "code",
   "execution_count": 13,
   "metadata": {},
   "outputs": [],
   "source": [
    "# Trainer\n",
    "trainer = Trainer(\n",
    "    model=model,\n",
    "    args=training_args,\n",
    "    train_dataset=train_dataset,\n",
    "    data_collator=data_collator,\n",
    ")"
   ]
  },
  {
   "cell_type": "code",
   "execution_count": 14,
   "metadata": {},
   "outputs": [
    {
     "data": {
      "text/html": [
       "\n",
       "    <div>\n",
       "      \n",
       "      <progress value='126' max='126' style='width:300px; height:20px; vertical-align: middle;'></progress>\n",
       "      [126/126 02:15, Epoch 3/3]\n",
       "    </div>\n",
       "    <table border=\"1\" class=\"dataframe\">\n",
       "  <thead>\n",
       " <tr style=\"text-align: left;\">\n",
       "      <th>Step</th>\n",
       "      <th>Training Loss</th>\n",
       "    </tr>\n",
       "  </thead>\n",
       "  <tbody>\n",
       "    <tr>\n",
       "      <td>10</td>\n",
       "      <td>10.318500</td>\n",
       "    </tr>\n",
       "    <tr>\n",
       "      <td>20</td>\n",
       "      <td>8.963300</td>\n",
       "    </tr>\n",
       "    <tr>\n",
       "      <td>30</td>\n",
       "      <td>7.149400</td>\n",
       "    </tr>\n",
       "    <tr>\n",
       "      <td>40</td>\n",
       "      <td>7.556100</td>\n",
       "    </tr>\n",
       "    <tr>\n",
       "      <td>50</td>\n",
       "      <td>4.277600</td>\n",
       "    </tr>\n",
       "    <tr>\n",
       "      <td>60</td>\n",
       "      <td>3.221400</td>\n",
       "    </tr>\n",
       "    <tr>\n",
       "      <td>70</td>\n",
       "      <td>2.865500</td>\n",
       "    </tr>\n",
       "    <tr>\n",
       "      <td>80</td>\n",
       "      <td>2.752500</td>\n",
       "    </tr>\n",
       "    <tr>\n",
       "      <td>90</td>\n",
       "      <td>2.692800</td>\n",
       "    </tr>\n",
       "    <tr>\n",
       "      <td>100</td>\n",
       "      <td>2.634600</td>\n",
       "    </tr>\n",
       "    <tr>\n",
       "      <td>110</td>\n",
       "      <td>2.624500</td>\n",
       "    </tr>\n",
       "    <tr>\n",
       "      <td>120</td>\n",
       "      <td>2.615600</td>\n",
       "    </tr>\n",
       "  </tbody>\n",
       "</table><p>"
      ],
      "text/plain": [
       "<IPython.core.display.HTML object>"
      ]
     },
     "metadata": {},
     "output_type": "display_data"
    },
    {
     "name": "stdout",
     "output_type": "stream",
     "text": [
      "Training took 2.30 minutes.\n"
     ]
    }
   ],
   "source": [
    "# Record the start time\n",
    "start_time = time.time()\n",
    "\n",
    "# Train the model\n",
    "trainer.train()\n",
    "\n",
    "# Record the end time\n",
    "end_time = time.time()\n",
    "\n",
    "# Calculate the elapsed time\n",
    "elapsed_time = (end_time - start_time)/60\n",
    "\n",
    "# Print the training duration in seconds\n",
    "print(f\"Training took {elapsed_time:.2f} minutes.\")"
   ]
  },
  {
   "cell_type": "code",
   "execution_count": 15,
   "metadata": {},
   "outputs": [
    {
     "data": {
      "text/plain": [
       "('./lora_finetuned_model/deepseek-llm-7b-base/tokenizer_config.json',\n",
       " './lora_finetuned_model/deepseek-llm-7b-base/special_tokens_map.json',\n",
       " './lora_finetuned_model/deepseek-llm-7b-base/tokenizer.json')"
      ]
     },
     "execution_count": 15,
     "metadata": {},
     "output_type": "execute_result"
    }
   ],
   "source": [
    "# Save the LoRA fine-tuned model\n",
    "model.save_pretrained(output_dir)\n",
    "tokenizer.save_pretrained(output_dir)"
   ]
  },
  {
   "cell_type": "code",
   "execution_count": 16,
   "metadata": {},
   "outputs": [
    {
     "data": {
      "text/html": [
       "\n",
       "    <div>\n",
       "      \n",
       "      <progress value='21' max='21' style='width:300px; height:20px; vertical-align: middle;'></progress>\n",
       "      [21/21 00:04]\n",
       "    </div>\n",
       "    "
      ],
      "text/plain": [
       "<IPython.core.display.HTML object>"
      ]
     },
     "metadata": {},
     "output_type": "display_data"
    },
    {
     "name": "stdout",
     "output_type": "stream",
     "text": [
      "Perplexity: 72.73070649493135\n"
     ]
    }
   ],
   "source": [
    "# Evaluate loss\n",
    "trainer = Trainer(model=model)\n",
    "eval_results = trainer.evaluate(test_dataset)\n",
    "perplexity = math.exp(eval_results[\"eval_loss\"])\n",
    "print(f\"Perplexity: {perplexity}\")"
   ]
  },
  {
   "cell_type": "code",
   "execution_count": 17,
   "metadata": {},
   "outputs": [
    {
     "data": {
      "text/html": [
       "\n",
       "    <div>\n",
       "      \n",
       "      <progress value='21' max='21' style='width:300px; height:20px; vertical-align: middle;'></progress>\n",
       "      [21/21 00:04]\n",
       "    </div>\n",
       "    "
      ],
      "text/plain": [
       "<IPython.core.display.HTML object>"
      ]
     },
     "metadata": {},
     "output_type": "display_data"
    },
    {
     "name": "stdout",
     "output_type": "stream",
     "text": [
      "Original Model Perplexity: 13.3060\n"
     ]
    }
   ],
   "source": [
    "# Evaluate the Original (Base) Model\n",
    "\n",
    "# Clear GPU cache before evaluation\n",
    "torch.cuda.empty_cache()\n",
    "\n",
    "# Load the original base model (without LoRA adapters)\n",
    "original_model.eval()  # Set to evaluation mode\n",
    "\n",
    "# (Optional) Move to GPU if available\n",
    "device = \"cuda\" if torch.cuda.is_available() else \"cpu\"\n",
    "original_model = original_model.to(device)\n",
    "\n",
    "# Create a Trainer for the original model using the same data_collator and test_dataset\n",
    "trainer_orig = Trainer(\n",
    "    model=original_model,\n",
    "    args=training_args,  # Re-using the same TrainingArguments for consistency\n",
    "    data_collator=data_collator,\n",
    "    eval_dataset=test_dataset,\n",
    ")\n",
    "\n",
    "# Evaluate the original model and compute perplexity\n",
    "eval_results_orig = trainer_orig.evaluate()\n",
    "orig_loss = eval_results_orig[\"eval_loss\"]\n",
    "orig_perplexity = math.exp(orig_loss)\n",
    "print(f\"Original Model Perplexity: {orig_perplexity:.4f}\")"
   ]
  }
 ],
 "metadata": {
  "kernelspec": {
   "display_name": "tilo_env",
   "language": "python",
   "name": "python3"
  },
  "language_info": {
   "codemirror_mode": {
    "name": "ipython",
    "version": 3
   },
   "file_extension": ".py",
   "mimetype": "text/x-python",
   "name": "python",
   "nbconvert_exporter": "python",
   "pygments_lexer": "ipython3",
   "version": "3.10.16"
  }
 },
 "nbformat": 4,
 "nbformat_minor": 2
}
